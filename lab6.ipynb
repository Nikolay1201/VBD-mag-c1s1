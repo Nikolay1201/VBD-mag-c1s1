{
 "cells": [
  {
   "cell_type": "code",
   "execution_count": 1,
   "outputs": [],
   "source": [
    "from sklearn.model_selection import train_test_split\n",
    "from sklearn import datasets\n",
    "import numpy as np"
   ],
   "metadata": {
    "collapsed": false,
    "ExecuteTime": {
     "end_time": "2023-12-02T12:00:11.391213Z",
     "start_time": "2023-12-02T12:00:11.371923Z"
    },
    "pycharm": {
     "name": "#%%\n"
    }
   },
   "id": "fdd21a317958775f"
  },
  {
   "cell_type": "code",
   "execution_count": 2,
   "outputs": [],
   "source": [
    "class Node:\n",
    "    \n",
    "    def __init__(self, index, t, true_branch, false_branch):\n",
    "        self.index = index\n",
    "        self.t = t  # порог\n",
    "        self.true_branch = true_branch\n",
    "        self.false_branch = false_branch\n",
    "        \n",
    "\n",
    "class Leaf:\n",
    "    \n",
    "    def __init__(self, data, labels):\n",
    "        self.data = data\n",
    "        self.labels = labels\n",
    "        self.prediction_classification = self.predict()\n",
    "        self.prediction_regression = self.predict_reg()\n",
    "        \n",
    "    def predict(self):\n",
    "        classes = {}\n",
    "        for label in self.labels:\n",
    "            if label not in classes:\n",
    "                classes[label] = 0\n",
    "            classes[label] += 1\n",
    "        # класс, количество объектов которого максимальное в листе\n",
    "        prediction = max(classes, key=classes.get)\n",
    "        return prediction  \n",
    "\n",
    "    def predict_reg(self):\n",
    "        prediction = np.mean(self.labels)\n",
    "        return prediction\n",
    "    \n",
    "# Расчет критерия Джини\n",
    "def gini(labels):\n",
    "    classes = {}\n",
    "    for label in labels:\n",
    "        if label not in classes:\n",
    "            classes[label] = 0\n",
    "        classes[label] += 1\n",
    "\n",
    "    impurity = 1\n",
    "    for label in classes:\n",
    "        p = classes[label] / len(labels)\n",
    "        impurity -= p ** 2\n",
    "        \n",
    "    return impurity\n",
    "\n",
    "# Расчет качества для задачи классификации\n",
    "def quality(left_labels, right_labels, current_gini):\n",
    "\n",
    "    # доля выбоки в левое поддерево\n",
    "    p = float(left_labels.shape[0]) / (left_labels.shape[0] + right_labels.shape[0])\n",
    "    \n",
    "    return current_gini - p * gini(left_labels) - (1 - p) * gini(right_labels)\n",
    "\n",
    "# Разбиение в узле\n",
    "def split(data, labels, index, t):\n",
    "    \n",
    "    left = np.where(data[:, index] <= t)\n",
    "    right = np.where(data[:, index] > t)\n",
    "        \n",
    "    true_data = data[left]\n",
    "    false_data = data[right]\n",
    "    true_labels = labels[left]\n",
    "    false_labels = labels[right]\n",
    "        \n",
    "    return true_data, false_data, true_labels, false_labels\n",
    "\n",
    "# Нахождение наилучшего разбиения\n",
    "def find_best_split(data, labels):\n",
    "\n",
    "    min_leaf = 5\n",
    "\n",
    "    current_gini = gini(labels)\n",
    "\n",
    "    best_quality = 0\n",
    "    best_t = None\n",
    "    best_index = None\n",
    "    \n",
    "    n_features = data.shape[1]\n",
    "    \n",
    "    for index in range(n_features):\n",
    "        t_values = np.unique([row[index] for row in data])\n",
    "        \n",
    "        for t in t_values:\n",
    "            true_data, false_data, true_labels, false_labels = split(data, labels, index, t)\n",
    "            if len(true_data) < min_leaf or len(false_data) < min_leaf:\n",
    "                continue\n",
    "            \n",
    "            current_quality = quality(true_labels, false_labels, current_gini)\n",
    "\n",
    "            if current_quality > best_quality:\n",
    "                best_quality, best_t, best_index = current_quality, t, index\n",
    "\n",
    "    return best_quality, best_t, best_index\n",
    "\n",
    "# Построение дерева классификации\n",
    "def build_tree_classification(data, labels, tree_depth=1, max_depth=50):\n",
    "\n",
    "    quality, t, index = find_best_split(data, labels)\n",
    "\n",
    "    if quality == 0:\n",
    "        return Leaf(data, labels)\n",
    "\n",
    "    if tree_depth >= max_depth:\n",
    "        return Leaf(data, labels)\n",
    "\n",
    "    tree_depth += 1\n",
    "\n",
    "    true_data, false_data, true_labels, false_labels = split(data, labels, index, t)\n",
    "\n",
    "    true_branch = build_tree_classification(true_data, true_labels, tree_depth, max_depth)\n",
    "    false_branch = build_tree_classification(false_data, false_labels, tree_depth, max_depth)\n",
    "\n",
    "    return Node(index, t, true_branch, false_branch)\n",
    "\n",
    "def classify_object(obj, node):\n",
    "\n",
    "    if isinstance(node, Leaf):\n",
    "        answer = node.prediction_classification\n",
    "        return answer\n",
    "\n",
    "    if obj[node.index] <= node.t:\n",
    "        return classify_object(obj, node.true_branch)\n",
    "    else:\n",
    "        return classify_object(obj, node.false_branch)\n",
    "    \n",
    "def predict_class(data, tree):\n",
    "    \n",
    "    classes = []\n",
    "    for obj in data:\n",
    "        prediction = classify_object(obj, tree)\n",
    "        classes.append(prediction)\n",
    "    return classes\n",
    "\n",
    "def accuracy(y_true, y_pred):\n",
    "    return np.sum(y_true == y_pred) / len(y)\n"
   ],
   "metadata": {
    "collapsed": false,
    "ExecuteTime": {
     "end_time": "2023-12-02T12:00:28.208631Z",
     "start_time": "2023-12-02T12:00:28.199297Z"
    },
    "pycharm": {
     "name": "#%%\n"
    }
   },
   "id": "2353a330ce16655"
  },
  {
   "cell_type": "code",
   "execution_count": 3,
   "outputs": [],
   "source": [
    "iris = datasets.load_iris()\n",
    "X = iris.data\n",
    "y = iris.target"
   ],
   "metadata": {
    "collapsed": false,
    "ExecuteTime": {
     "end_time": "2023-12-02T12:00:13.125784Z",
     "start_time": "2023-12-02T12:00:13.111702Z"
    },
    "pycharm": {
     "name": "#%%\n"
    }
   },
   "id": "f6bea7bb53e6b5f1"
  },
  {
   "cell_type": "code",
   "execution_count": 4,
   "outputs": [],
   "source": [
    "X_train, X_test, y_train, y_test = train_test_split(X, y, test_size=0.2, random_state=42, stratify=y)"
   ],
   "metadata": {
    "collapsed": false,
    "ExecuteTime": {
     "end_time": "2023-12-02T12:00:13.505452Z",
     "start_time": "2023-12-02T12:00:13.495984Z"
    },
    "pycharm": {
     "name": "#%%\n"
    }
   },
   "id": "825d8c4bb450f21f"
  },
  {
   "cell_type": "code",
   "execution_count": 5,
   "outputs": [
    {
     "name": "stdout",
     "output_type": "stream",
     "text": [
      "Accuracy score (original train data): 0.7733\n",
      "Accuracy score (original test data): 0.1867\n"
     ]
    }
   ],
   "source": [
    "\n",
    "custom_tree = build_tree_classification(X_train, y_train, max_depth=3)\n",
    "\n",
    "y_train_pred = predict_class(X_train, custom_tree)\n",
    "y_test_pred = predict_class(X_test, custom_tree)\n",
    "\n",
    "print(f'Accuracy score (original train data): {np.round(accuracy(y_train, y_train_pred), 4)}')\n",
    "print(f'Accuracy score (original test data): {np.round(accuracy(y_test, y_test_pred), 4)}')"
   ],
   "metadata": {
    "collapsed": false,
    "ExecuteTime": {
     "end_time": "2023-12-02T12:00:14.149233Z",
     "start_time": "2023-12-02T12:00:14.130044Z"
    },
    "pycharm": {
     "name": "#%%\n"
    }
   },
   "id": "ef96f173756aa6c9"
  }
 ],
 "metadata": {
  "kernelspec": {
   "display_name": "Python 3",
   "language": "python",
   "name": "python3"
  },
  "language_info": {
   "codemirror_mode": {
    "name": "ipython",
    "version": 2
   },
   "file_extension": ".py",
   "mimetype": "text/x-python",
   "name": "python",
   "nbconvert_exporter": "python",
   "pygments_lexer": "ipython2",
   "version": "2.7.6"
  }
 },
 "nbformat": 4,
 "nbformat_minor": 5
}